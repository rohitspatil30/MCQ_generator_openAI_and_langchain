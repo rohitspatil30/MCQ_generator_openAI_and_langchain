{
 "cells": [
  {
   "cell_type": "code",
   "execution_count": 1,
   "metadata": {},
   "outputs": [],
   "source": [
    "import os\n",
    "import json\n",
    "import pandas as pd\n",
    "import traceback"
   ]
  },
  {
   "cell_type": "code",
   "execution_count": 2,
   "metadata": {},
   "outputs": [],
   "source": [
    "from langchain.chat_models import ChatOpenAI"
   ]
  },
  {
   "cell_type": "code",
   "execution_count": 3,
   "metadata": {},
   "outputs": [
    {
     "data": {
      "text/plain": [
       "True"
      ]
     },
     "execution_count": 3,
     "metadata": {},
     "output_type": "execute_result"
    }
   ],
   "source": [
    "from dotenv import load_dotenv\n",
    "load_dotenv()"
   ]
  },
  {
   "cell_type": "code",
   "execution_count": 4,
   "metadata": {},
   "outputs": [],
   "source": [
    "KEY = os.getenv('OPENAI_API_KEY')"
   ]
  },
  {
   "cell_type": "code",
   "execution_count": 5,
   "metadata": {},
   "outputs": [
    {
     "name": "stderr",
     "output_type": "stream",
     "text": [
      "C:\\Users\\HP\\AppData\\Local\\Programs\\Python\\Python310\\lib\\site-packages\\langchain_core\\_api\\deprecation.py:115: LangChainDeprecationWarning: The class `ChatOpenAI` was deprecated in LangChain 0.1.0 and will be removed in 0.2.0. Use langchain_openai.ChatOpenAI instead.\n",
      "  warn_deprecated(\n"
     ]
    }
   ],
   "source": [
    "llm = ChatOpenAI(openai_api_key = KEY, temperature=0.3, model='gpt-3.5-turbo')"
   ]
  },
  {
   "cell_type": "code",
   "execution_count": 6,
   "metadata": {},
   "outputs": [],
   "source": [
    "RESPONSE_JSON = {\n",
    "        \"1\": {\n",
    "            \"mcq\": \"multiple choice question\",\n",
    "            \"options\":{\n",
    "                \"a\": \"choice here\",\n",
    "                \"b\": \"choice here\",\n",
    "                \"c\": \"choice here\",\n",
    "                \"d\": \"choice here\",\n",
    "            },\n",
    "            \"correct\": \"correct answer\",\n",
    "        },\n",
    "\n",
    "       \"2\": {\n",
    "            \"mcq\": \"multiple choice question\",\n",
    "            \"options\":{\n",
    "                \"a\": \"choice here\",\n",
    "                \"b\": \"choice here\",\n",
    "                \"c\": \"choice here\",\n",
    "                \"d\": \"choice here\",\n",
    "            },\n",
    "            \"correct\": \"correct answer\",\n",
    "        },\n",
    "}"
   ]
  },
  {
   "cell_type": "code",
   "execution_count": 7,
   "metadata": {},
   "outputs": [],
   "source": [
    "from langchain.llms import OpenAI\n",
    "from langchain.chat_models import ChatOpenAI\n",
    "from langchain.prompts import PromptTemplate\n",
    "from langchain.chains import LLMChain\n",
    "from langchain.chains import SequentialChain\n",
    "from langchain.callbacks import get_openai_callback\n",
    "import PyPDF2"
   ]
  },
  {
   "cell_type": "code",
   "execution_count": 8,
   "metadata": {},
   "outputs": [],
   "source": [
    "TEMPLATE = '''\n",
    "        Text: {text}\n",
    "        You are an expert MCQ maker. Given the above text, it is your job to \\\n",
    "        create a quiz of {number} multiple choice questions for {subject} students in {tone} tone.\n",
    "        Make sure the questions are not repeated and check all the questions to be conforming the text as well.\n",
    "        Make sure to format your response like RESPONSE_JSON below and use it as a guide. \\\n",
    "        Ensure to make {number} MCQs\n",
    "        ### RESPONSE_JSON\n",
    "        {response_json}\n",
    "\n",
    "        '''"
   ]
  },
  {
   "cell_type": "code",
   "execution_count": 9,
   "metadata": {},
   "outputs": [],
   "source": [
    "quiz_prompt = PromptTemplate(\n",
    "    input_variables=[\"text\",\"number\",\"subject\",\"tone\",\"response_json\"],\n",
    "    template = TEMPLATE\n",
    ")"
   ]
  },
  {
   "cell_type": "code",
   "execution_count": 10,
   "metadata": {},
   "outputs": [],
   "source": [
    "quiz_chain = LLMChain(llm = llm, prompt = quiz_prompt, output_key = \"quiz\", verbose =True)"
   ]
  },
  {
   "cell_type": "code",
   "execution_count": 11,
   "metadata": {},
   "outputs": [],
   "source": [
    "TEMPLATE2=\"\"\"\n",
    "You are an expert English grammarian and writer. Given a Multiple Choice Quiz for {subject} students. \\\n",
    "You need to evaluate the complexity of the question and give a complete analysis of the quiz. Only use at max 50 words for complexity\n",
    "if the quiz is not at par with the cognitive and analytical abilities of the students, \\\n",
    "update the quiz questions which need to be changed and change the tone such that it perfectly fits the student's ability\n",
    "Quiz_MCQs:\n",
    "{quiz}\n",
    "\n",
    "Check from an expert English Writer of the above quiz:\n",
    "\"\"\""
   ]
  },
  {
   "cell_type": "code",
   "execution_count": 12,
   "metadata": {},
   "outputs": [],
   "source": [
    "quiz_evaluation_prompt = PromptTemplate(input_variables=[\"subject\", \"quiz\"], template=TEMPLATE2)"
   ]
  },
  {
   "cell_type": "code",
   "execution_count": 13,
   "metadata": {},
   "outputs": [],
   "source": [
    "quiz_evaluation_chain = LLMChain(llm = llm, prompt=quiz_evaluation_prompt, output_key=\"review\", verbose=True)"
   ]
  },
  {
   "cell_type": "code",
   "execution_count": 15,
   "metadata": {},
   "outputs": [],
   "source": [
    "quiz_sequence = SequentialChain(chains=[quiz_chain,quiz_evaluation_chain], input_variables = [\"text\", \"number\", \"subject\", \"tone\", \"response_json\"],\n",
    "                               output_variables=[\"quiz\",\"review\"], verbose=True)"
   ]
  },
  {
   "cell_type": "code",
   "execution_count": 16,
   "metadata": {},
   "outputs": [],
   "source": [
    "file_path = r'D:\\languages\\python\\projects\\GenerativeAI_projects\\MCQ_generator_openAI_and_langchain\\data.txt'"
   ]
  },
  {
   "cell_type": "code",
   "execution_count": 17,
   "metadata": {},
   "outputs": [],
   "source": [
    "with open(file_path,'r') as file:\n",
    "    text = file.read()\n",
    "    "
   ]
  },
  {
   "cell_type": "code",
   "execution_count": 18,
   "metadata": {},
   "outputs": [
    {
     "data": {
      "text/plain": [
       "\"Deep learning (DL) is a subset of machine learning (ML) that deals with algorithms inspired by the structure and function of the human brain, known as artificial neural networks. These networks consist of interconnected layers of nodes (neurons) that process information in a hierarchical manner.\\n\\nHere's how DL differs from traditional machine learning:\\n\\n1. **Hierarchy of Representation:** DL algorithms automatically learn to represent data in multiple layers of increasing complexity, allowing the system to discover intricate patterns within the data. This hierarchical representation is often more abstract and is one of the significant differences from traditional ML.\\n\\n2. **Feature Extraction:** In traditional ML, domain experts often handcraft the features used for training models. In DL, these features are learned automatically from the raw data, reducing the need for manual feature engineering.\\n\\n3. **Scale and Performance:** DL algorithms can handle vast amounts of data efficiently, often outperforming traditional ML methods on tasks like image and speech recognition, natural language processing, and more.\\n\\n4. **Computational Requirements:** Deep learning models typically require more computational resources, especially for training, due to their complex architecture and the need for large datasets. \\n\\n5. **Representation Learning:** DL models can learn hierarchical representations of data, allowing them to understand and extract features at different levels of abstraction. This capability is one of the reasons for their success in various complex tasks.\\n\\n6. **Interpretability:** Traditional ML models are often more interpretable since their features are explicitly defined. In contrast, DL models, particularly deep neural networks, can be more complex and challenging to interpret.\\n\\nWe use deep learning because it has shown remarkable performance in various domains, especially where data is abundant and complex patterns exist. Tasks like image and speech recognition, natural language understanding, recommendation systems, and autonomous vehicles have seen substantial improvements with deep learning techniques.\\n\\nHowever, it's essential to note that deep learning isn't a one-size-fits-all solution. For smaller datasets or when interpretability is crucial, traditional ML methods might be more suitable. Choosing between DL and ML often depends on the specific problem, available data, computational resources, and the level of interpretability required for the task at hand.\""
      ]
     },
     "execution_count": 18,
     "metadata": {},
     "output_type": "execute_result"
    }
   ],
   "source": [
    "text"
   ]
  },
  {
   "cell_type": "code",
   "execution_count": 19,
   "metadata": {},
   "outputs": [
    {
     "data": {
      "text/plain": [
       "'{\"1\": {\"mcq\": \"multiple choice question\", \"options\": {\"a\": \"choice here\", \"b\": \"choice here\", \"c\": \"choice here\", \"d\": \"choice here\"}, \"correct\": \"correct answer\"}, \"2\": {\"mcq\": \"multiple choice question\", \"options\": {\"a\": \"choice here\", \"b\": \"choice here\", \"c\": \"choice here\", \"d\": \"choice here\"}, \"correct\": \"correct answer\"}}'"
      ]
     },
     "execution_count": 19,
     "metadata": {},
     "output_type": "execute_result"
    }
   ],
   "source": [
    "import json\n",
    "json.dumps(RESPONSE_JSON)"
   ]
  },
  {
   "cell_type": "code",
   "execution_count": 24,
   "metadata": {},
   "outputs": [],
   "source": [
    "NUMBER =3\n",
    "SUBJECT = 'deeplearning'\n",
    "TONE ='simple'"
   ]
  },
  {
   "cell_type": "code",
   "execution_count": 25,
   "metadata": {},
   "outputs": [
    {
     "name": "stderr",
     "output_type": "stream",
     "text": [
      "C:\\Users\\HP\\AppData\\Local\\Programs\\Python\\Python310\\lib\\site-packages\\langchain_core\\_api\\deprecation.py:115: LangChainDeprecationWarning: The function `__call__` was deprecated in LangChain 0.1.0 and will be removed in 0.2.0. Use invoke instead.\n",
      "  warn_deprecated(\n"
     ]
    },
    {
     "name": "stdout",
     "output_type": "stream",
     "text": [
      "\n",
      "\n",
      "\u001b[1m> Entering new SequentialChain chain...\u001b[0m\n",
      "\n",
      "\n",
      "\u001b[1m> Entering new LLMChain chain...\u001b[0m\n",
      "Prompt after formatting:\n",
      "\u001b[32;1m\u001b[1;3m\n",
      "        Text: Deep learning (DL) is a subset of machine learning (ML) that deals with algorithms inspired by the structure and function of the human brain, known as artificial neural networks. These networks consist of interconnected layers of nodes (neurons) that process information in a hierarchical manner.\n",
      "\n",
      "Here's how DL differs from traditional machine learning:\n",
      "\n",
      "1. **Hierarchy of Representation:** DL algorithms automatically learn to represent data in multiple layers of increasing complexity, allowing the system to discover intricate patterns within the data. This hierarchical representation is often more abstract and is one of the significant differences from traditional ML.\n",
      "\n",
      "2. **Feature Extraction:** In traditional ML, domain experts often handcraft the features used for training models. In DL, these features are learned automatically from the raw data, reducing the need for manual feature engineering.\n",
      "\n",
      "3. **Scale and Performance:** DL algorithms can handle vast amounts of data efficiently, often outperforming traditional ML methods on tasks like image and speech recognition, natural language processing, and more.\n",
      "\n",
      "4. **Computational Requirements:** Deep learning models typically require more computational resources, especially for training, due to their complex architecture and the need for large datasets. \n",
      "\n",
      "5. **Representation Learning:** DL models can learn hierarchical representations of data, allowing them to understand and extract features at different levels of abstraction. This capability is one of the reasons for their success in various complex tasks.\n",
      "\n",
      "6. **Interpretability:** Traditional ML models are often more interpretable since their features are explicitly defined. In contrast, DL models, particularly deep neural networks, can be more complex and challenging to interpret.\n",
      "\n",
      "We use deep learning because it has shown remarkable performance in various domains, especially where data is abundant and complex patterns exist. Tasks like image and speech recognition, natural language understanding, recommendation systems, and autonomous vehicles have seen substantial improvements with deep learning techniques.\n",
      "\n",
      "However, it's essential to note that deep learning isn't a one-size-fits-all solution. For smaller datasets or when interpretability is crucial, traditional ML methods might be more suitable. Choosing between DL and ML often depends on the specific problem, available data, computational resources, and the level of interpretability required for the task at hand.\n",
      "        You are an expert MCQ maker. Given the above text, it is your job to         create a quiz of 3 multiple choice questions for deeplearning students in simple tone.\n",
      "        Make sure the questions are not repeated and check all the questions to be conforming the text as well.\n",
      "        Make sure to format your response like RESPONSE_JSON below and use it as a guide.         Ensure to make 3 MCQs\n",
      "        ### RESPONSE_JSON\n",
      "        {\"1\": {\"mcq\": \"multiple choice question\", \"options\": {\"a\": \"choice here\", \"b\": \"choice here\", \"c\": \"choice here\", \"d\": \"choice here\"}, \"correct\": \"correct answer\"}, \"2\": {\"mcq\": \"multiple choice question\", \"options\": {\"a\": \"choice here\", \"b\": \"choice here\", \"c\": \"choice here\", \"d\": \"choice here\"}, \"correct\": \"correct answer\"}}\n",
      "\n",
      "        \u001b[0m\n",
      "\n",
      "\u001b[1m> Finished chain.\u001b[0m\n",
      "\n",
      "\n",
      "\u001b[1m> Entering new LLMChain chain...\u001b[0m\n",
      "Prompt after formatting:\n",
      "\u001b[32;1m\u001b[1;3m\n",
      "You are an expert English grammarian and writer. Given a Multiple Choice Quiz for deeplearning students. You need to evaluate the complexity of the question and give a complete analysis of the quiz. Only use at max 50 words for complexity\n",
      "if the quiz is not at par with the cognitive and analytical abilities of the students, update the quiz questions which need to be changed and change the tone such that it perfectly fits the student's ability\n",
      "Quiz_MCQs:\n",
      "{\n",
      "    \"1\": {\n",
      "        \"mcq\": \"What is one of the significant differences between deep learning and traditional machine learning?\",\n",
      "        \"options\": {\n",
      "            \"a\": \"Deep learning models require less computational resources\",\n",
      "            \"b\": \"Deep learning models automatically learn hierarchical representations of data\",\n",
      "            \"c\": \"Deep learning models are more interpretable\",\n",
      "            \"d\": \"Deep learning models rely on handcrafted features\"\n",
      "        },\n",
      "        \"correct\": \"b\"\n",
      "    },\n",
      "    \"2\": {\n",
      "        \"mcq\": \"Which type of tasks have seen substantial improvements with deep learning techniques?\",\n",
      "        \"options\": {\n",
      "            \"a\": \"Tasks with small datasets\",\n",
      "            \"b\": \"Tasks with simple patterns\",\n",
      "            \"c\": \"Tasks like image and speech recognition\",\n",
      "            \"d\": \"Tasks with low computational requirements\"\n",
      "        },\n",
      "        \"correct\": \"c\"\n",
      "    },\n",
      "    \"3\": {\n",
      "        \"mcq\": \"When might traditional machine learning methods be more suitable than deep learning?\",\n",
      "        \"options\": {\n",
      "            \"a\": \"When interpretability is not important\",\n",
      "            \"b\": \"When dealing with complex patterns\",\n",
      "            \"c\": \"When large datasets are available\",\n",
      "            \"d\": \"When computational resources are limited\"\n",
      "        },\n",
      "        \"correct\": \"a\"\n",
      "    }\n",
      "}\n",
      "\n",
      "Check from an expert English Writer of the above quiz:\n",
      "\u001b[0m\n",
      "\n",
      "\u001b[1m> Finished chain.\u001b[0m\n",
      "\n",
      "\u001b[1m> Finished chain.\u001b[0m\n"
     ]
    }
   ],
   "source": [
    "with get_openai_callback() as cb:\n",
    "    response = quiz_sequence(\n",
    "        {\n",
    "        \"text\": text,\n",
    "        \"number\": NUMBER,\n",
    "        \"subject\": SUBJECT,\n",
    "        \"tone\": TONE,\n",
    "        \"response_json\": json.dumps(RESPONSE_JSON)\n",
    "        }\n",
    "    )"
   ]
  },
  {
   "cell_type": "code",
   "execution_count": 39,
   "metadata": {},
   "outputs": [
    {
     "name": "stdout",
     "output_type": "stream",
     "text": [
      "Total Tokens: 1328\n",
      "Prompt Tokens: 1021\n",
      "Completion Tokens: 307\n",
      "Total Cost: 0.0021455\n"
     ]
    }
   ],
   "source": [
    "print(f\"Total Tokens: {cb.total_tokens}\")\n",
    "print(f\"Prompt Tokens: {cb.prompt_tokens}\")\n",
    "print(f\"Completion Tokens: {cb.completion_tokens}\")\n",
    "print(f\"Total Cost: {cb.total_cost}\")"
   ]
  },
  {
   "cell_type": "code",
   "execution_count": 40,
   "metadata": {},
   "outputs": [],
   "source": [
    "quiz = response.get(\"quiz\")"
   ]
  },
  {
   "cell_type": "code",
   "execution_count": 47,
   "metadata": {},
   "outputs": [
    {
     "data": {
      "text/plain": [
       "str"
      ]
     },
     "execution_count": 47,
     "metadata": {},
     "output_type": "execute_result"
    }
   ],
   "source": [
    "type(quiz)"
   ]
  },
  {
   "cell_type": "code",
   "execution_count": 48,
   "metadata": {},
   "outputs": [],
   "source": [
    "quiz = json.loads(quiz)"
   ]
  },
  {
   "cell_type": "code",
   "execution_count": 49,
   "metadata": {},
   "outputs": [],
   "source": [
    "import pandas as pd"
   ]
  },
  {
   "cell_type": "code",
   "execution_count": 52,
   "metadata": {},
   "outputs": [],
   "source": [
    "quiz_table_data = []\n",
    "for key, value in quiz.items():\n",
    "    mcq = value[\"mcq\"]\n",
    "    options = \"|\".join(\n",
    "        [\n",
    "            f\"{option}: {option_value}\"\n",
    "            for option, option_value in value[\"options\"].items() ]\n",
    "        \n",
    "    )\n",
    "    correct = value[\"correct\"]\n",
    "    quiz_table_data. append({\"MCQ\": mcq,\"Choices\": options, \"Correct\": correct})"
   ]
  },
  {
   "cell_type": "code",
   "execution_count": 53,
   "metadata": {},
   "outputs": [],
   "source": [
    "quiz = pd.DataFrame(quiz_table_data)"
   ]
  },
  {
   "cell_type": "code",
   "execution_count": 56,
   "metadata": {},
   "outputs": [
    {
     "name": "stdout",
     "output_type": "stream",
     "text": [
      "0    a: Deep learning models require less computati...\n",
      "1    a: Tasks with small datasets|b: Tasks with sim...\n",
      "2    a: When interpretability is not important|b: W...\n",
      "Name: Choices, dtype: object\n"
     ]
    }
   ],
   "source": [
    "print(quiz[\"Choices\"])"
   ]
  },
  {
   "cell_type": "code",
   "execution_count": 57,
   "metadata": {},
   "outputs": [
    {
     "data": {
      "text/html": [
       "<div>\n",
       "<style scoped>\n",
       "    .dataframe tbody tr th:only-of-type {\n",
       "        vertical-align: middle;\n",
       "    }\n",
       "\n",
       "    .dataframe tbody tr th {\n",
       "        vertical-align: top;\n",
       "    }\n",
       "\n",
       "    .dataframe thead th {\n",
       "        text-align: right;\n",
       "    }\n",
       "</style>\n",
       "<table border=\"1\" class=\"dataframe\">\n",
       "  <thead>\n",
       "    <tr style=\"text-align: right;\">\n",
       "      <th></th>\n",
       "      <th>MCQ</th>\n",
       "      <th>Choices</th>\n",
       "      <th>Correct</th>\n",
       "    </tr>\n",
       "  </thead>\n",
       "  <tbody>\n",
       "    <tr>\n",
       "      <th>0</th>\n",
       "      <td>What is one of the significant differences bet...</td>\n",
       "      <td>a: Deep learning models require less computati...</td>\n",
       "      <td>b</td>\n",
       "    </tr>\n",
       "    <tr>\n",
       "      <th>1</th>\n",
       "      <td>Which type of tasks have seen substantial impr...</td>\n",
       "      <td>a: Tasks with small datasets|b: Tasks with sim...</td>\n",
       "      <td>c</td>\n",
       "    </tr>\n",
       "    <tr>\n",
       "      <th>2</th>\n",
       "      <td>When might traditional machine learning method...</td>\n",
       "      <td>a: When interpretability is not important|b: W...</td>\n",
       "      <td>a</td>\n",
       "    </tr>\n",
       "  </tbody>\n",
       "</table>\n",
       "</div>"
      ],
      "text/plain": [
       "                                                 MCQ  \\\n",
       "0  What is one of the significant differences bet...   \n",
       "1  Which type of tasks have seen substantial impr...   \n",
       "2  When might traditional machine learning method...   \n",
       "\n",
       "                                             Choices Correct  \n",
       "0  a: Deep learning models require less computati...       b  \n",
       "1  a: Tasks with small datasets|b: Tasks with sim...       c  \n",
       "2  a: When interpretability is not important|b: W...       a  "
      ]
     },
     "execution_count": 57,
     "metadata": {},
     "output_type": "execute_result"
    }
   ],
   "source": [
    "quiz\n"
   ]
  },
  {
   "cell_type": "code",
   "execution_count": 59,
   "metadata": {},
   "outputs": [],
   "source": [
    "quiz.to_csv(\"Quiz_table.csv\",index=False)"
   ]
  },
  {
   "cell_type": "code",
   "execution_count": null,
   "metadata": {},
   "outputs": [],
   "source": []
  }
 ],
 "metadata": {
  "kernelspec": {
   "display_name": "Python 3 (ipykernel)",
   "language": "python",
   "name": "python3"
  },
  "language_info": {
   "codemirror_mode": {
    "name": "ipython",
    "version": 3
   },
   "file_extension": ".py",
   "mimetype": "text/x-python",
   "name": "python",
   "nbconvert_exporter": "python",
   "pygments_lexer": "ipython3",
   "version": "3.10.4"
  },
  "widgets": {
   "application/vnd.jupyter.widget-state+json": {
    "state": {},
    "version_major": 2,
    "version_minor": 0
   }
  }
 },
 "nbformat": 4,
 "nbformat_minor": 4
}
